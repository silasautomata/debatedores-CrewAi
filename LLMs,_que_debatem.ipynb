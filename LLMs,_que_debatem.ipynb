{
  "nbformat": 4,
  "nbformat_minor": 0,
  "metadata": {
    "colab": {
      "provenance": [],
      "authorship_tag": "ABX9TyP9IuzYsTI+eRkaI+LcZwrL",
      "include_colab_link": true
    },
    "kernelspec": {
      "name": "python3",
      "display_name": "Python 3"
    },
    "language_info": {
      "name": "python"
    }
  },
  "cells": [
    {
      "cell_type": "markdown",
      "metadata": {
        "id": "view-in-github",
        "colab_type": "text"
      },
      "source": [
        "<a href=\"https://colab.research.google.com/github/silasautomata/debatedores-CrewAi/blob/main/LLMs%2C_que_debatem.ipynb\" target=\"_parent\"><img src=\"https://colab.research.google.com/assets/colab-badge.svg\" alt=\"Open In Colab\"/></a>"
      ]
    },
    {
      "cell_type": "code",
      "execution_count": null,
      "metadata": {
        "id": "c9EUPKdVA36Z"
      },
      "outputs": [],
      "source": [
        "\"\"\"\n",
        "!pip install --q langchain_chatOpenAI\n",
        "!pip install --q crewai\n",
        "!pip install --q langchain_groq\n",
        "!pip install --q 'crewai[tools]'\n",
        "\"\"\"\n",
        "\n",
        "import os\n",
        "from crewai import Agent, Task, crew, process\n",
        "from langchain_openai import ChatOpenAI\n",
        "# configurando o llm padrao para todos os agentes e tarefas\n",
        "OPENAI_API_KEY = \"sua chave aqui\"\n",
        "os. environ[\"OPENAI_API)KEY\"] = OPENAI_API_KEY\n",
        "os. environ[\"OPENAI_MODEL_NAME\"] ='gpt=3.5-turbo'\n",
        "\n",
        "chat = ChatOpenAI(api_key = OPENAI_API_KEY)\n",
        "# quantidade de agentes e rodadas fornecidas pelo usuario\n",
        "num_agentes = 4\n",
        "num_rodadas = 3\n",
        "# criando debatedores\n",
        "debatedores = []\n",
        "for i in range(1, num_agentes + 1):\n",
        "    debatedor = Agent(\n",
        "        role = f'debatedor {i}',\n",
        "        goal = 'propor e aprimorar soluçoes para o problema proposto. todas as saidas devem ser em portugues do brasil',\n",
        "        verbose = True,\n",
        "        backtory = (\n",
        "            f'voce e o debatedor {i}. Sua tarefa e propor soluçoes inoivadoras para o problema'\n",
        "            'e aprimorar suas ideias baseadas nas soluçoes dos outros debatedores'\n",
        "        ),\n",
        "        allow_delegation = False\n",
        "    )\n",
        "\n",
        "    debatedores.append(debatedor)\n",
        "# criando agente gerente\n",
        "gerente = Agent(\n",
        "    role = 'gerente',\n",
        "    goal = 'coordenar os debatedores e consolidar a soluçao final. Todas as saidas devem ser portugues do brasil.',\n",
        "    verbose = True,\n",
        "    memory = True,\n",
        "    backstory=(\n",
        "        'voce e o gerente. Sua tarefa e coodernar os debatedores, garantir que todas as rodadas de debate sejam realizadas'\n",
        "        'e consolidar a soluçao final para o problema. todas as saidas devem ser em portugues do brasil'\n",
        "    ),\n",
        "    allow_delegation = True\n",
        "\n",
        ")\n",
        "# criando tarefas de debate\n",
        "tarefas_debate = []\n",
        "for rodada in range(num_rodadas):\n",
        "    for i in range(1, num_agentes + 1):\n",
        "        tarefa = Task(\n",
        "            description = (\n",
        "                f'rodada {rodada + 1} debatedor {i}, apresente sua soluçao parcial para o problema.'\n",
        "                'depois, leia e reflita sobre as soluçoes dos outros debatedores. Atualize sua soluçao com base nessas reflexoes.' \\\n",
        "                'todas as saidas devem ser um portugues do brasil'),\n",
        "            expected_output='uma soluçao atualizada para o problema. todas as saidas devem ser em portugues do brasil',\n",
        "            agent = debatedor [i-1],\n",
        "            async_execution = False,\n",
        "            output_file = f'solucao_debatedor_{i}_rodada{rodada + 1}.txt'\n",
        "        )\n",
        "    tarefas_debate.append(tarefa)\n",
        "# tarefa final de consolidaçao da soluçao\n",
        "tarefa_consolidacao = Task (\n",
        "    description =(\n",
        "        'leia todas as soluçoes finai dos debatedores e consolide uma soluçao final abrangente para o problema.' \\\n",
        "        'todas as saidas devem ser em portugues do brasil '\n",
        "    ),\n",
        "    expected_output='uma soluçao final consolidada para o problema. todas as saidas dfevem ser em portugues do brasil',\n",
        "    agent = gerente,\n",
        "    async_execution= False,\n",
        "    output_file='solucao_final.txt'\n",
        ")\n",
        "# formando a crew de debate\n",
        "crew_debate = crew(\n",
        "    agents = debatedores + [gerente],\n",
        "    tasks = tarefas_debate + [tarefa_consolidacao],\n",
        "    process=process.sequencial\n",
        ")\n",
        "# iniciando o debate\n",
        "resultado_final = crew_debate.kickoff(input={'problema': 'como recuperar casas que forma destruidas nas enchentes do rio grande do sul'})\n",
        "print(resultado_final)"
      ]
    },
    {
      "cell_type": "markdown",
      "source": [
        "**credidos ao professor Sandeco que criou este projeto**"
      ],
      "metadata": {
        "id": "5W905bzlA_2V"
      }
    },
    {
      "cell_type": "markdown",
      "source": [
        "Este projeto utiliza agentes de inteligência artificial para simular um debate estruturado com o objetivo de encontrar soluções para um problema definido. O processo é orquestrado por um \"gerente\" e envolve múltiplos \"debatedores\", cada um com a tarefa de propor e aprimorar soluções ao longo de rodadas de debate."
      ],
      "metadata": {
        "id": "INBetUwsBM2-"
      }
    }
  ]
}